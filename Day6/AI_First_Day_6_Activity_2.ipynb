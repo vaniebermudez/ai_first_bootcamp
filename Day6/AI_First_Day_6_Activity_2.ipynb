{
 "cells": [
  {
   "cell_type": "code",
   "execution_count": 1,
   "metadata": {
    "colab": {
     "base_uri": "https://localhost:8080/"
    },
    "executionInfo": {
     "elapsed": 22651,
     "status": "ok",
     "timestamp": 1732341761901,
     "user": {
      "displayName": "Vanessa Althea Bermudez",
      "userId": "00248249844997249383"
     },
     "user_tz": -480
    },
    "id": "TXmRbPomlg4T",
    "outputId": "976ee2d4-7dc6-47e7-9033-f86f96c2373e"
   },
   "outputs": [
    {
     "name": "stdout",
     "output_type": "stream",
     "text": [
      "Collecting git+https://github.com/openai/swarm.git\n",
      "  Cloning https://github.com/openai/swarm.git to /tmp/pip-req-build-ist6bzmp\n",
      "  Running command git clone --filter=blob:none --quiet https://github.com/openai/swarm.git /tmp/pip-req-build-ist6bzmp\n",
      "  Resolved https://github.com/openai/swarm.git to commit 9db581cecaacea0d46a933d6453c312b034dbf47\n",
      "  Installing build dependencies ... \u001b[?25l\u001b[?25hdone\n",
      "  Getting requirements to build wheel ... \u001b[?25l\u001b[?25hdone\n",
      "  Preparing metadata (pyproject.toml) ... \u001b[?25l\u001b[?25hdone\n",
      "Requirement already satisfied: numpy in /usr/local/lib/python3.10/dist-packages (from swarm==0.1.0) (1.26.4)\n",
      "Requirement already satisfied: openai>=1.33.0 in /usr/local/lib/python3.10/dist-packages (from swarm==0.1.0) (1.54.4)\n",
      "Requirement already satisfied: pytest in /usr/local/lib/python3.10/dist-packages (from swarm==0.1.0) (8.3.3)\n",
      "Requirement already satisfied: requests in /usr/local/lib/python3.10/dist-packages (from swarm==0.1.0) (2.32.3)\n",
      "Requirement already satisfied: tqdm in /usr/local/lib/python3.10/dist-packages (from swarm==0.1.0) (4.66.6)\n",
      "Collecting pre-commit (from swarm==0.1.0)\n",
      "  Downloading pre_commit-4.0.1-py2.py3-none-any.whl.metadata (1.3 kB)\n",
      "Collecting instructor (from swarm==0.1.0)\n",
      "  Downloading instructor-1.6.4-py3-none-any.whl.metadata (17 kB)\n",
      "Requirement already satisfied: anyio<5,>=3.5.0 in /usr/local/lib/python3.10/dist-packages (from openai>=1.33.0->swarm==0.1.0) (3.7.1)\n",
      "Requirement already satisfied: distro<2,>=1.7.0 in /usr/local/lib/python3.10/dist-packages (from openai>=1.33.0->swarm==0.1.0) (1.9.0)\n",
      "Requirement already satisfied: httpx<1,>=0.23.0 in /usr/local/lib/python3.10/dist-packages (from openai>=1.33.0->swarm==0.1.0) (0.27.2)\n",
      "Requirement already satisfied: jiter<1,>=0.4.0 in /usr/local/lib/python3.10/dist-packages (from openai>=1.33.0->swarm==0.1.0) (0.7.1)\n",
      "Requirement already satisfied: pydantic<3,>=1.9.0 in /usr/local/lib/python3.10/dist-packages (from openai>=1.33.0->swarm==0.1.0) (2.9.2)\n",
      "Requirement already satisfied: sniffio in /usr/local/lib/python3.10/dist-packages (from openai>=1.33.0->swarm==0.1.0) (1.3.1)\n",
      "Requirement already satisfied: typing-extensions<5,>=4.11 in /usr/local/lib/python3.10/dist-packages (from openai>=1.33.0->swarm==0.1.0) (4.12.2)\n",
      "Requirement already satisfied: aiohttp<4.0.0,>=3.9.1 in /usr/local/lib/python3.10/dist-packages (from instructor->swarm==0.1.0) (3.11.2)\n",
      "Requirement already satisfied: docstring-parser<0.17,>=0.16 in /usr/local/lib/python3.10/dist-packages (from instructor->swarm==0.1.0) (0.16)\n",
      "Requirement already satisfied: jinja2<4.0.0,>=3.1.4 in /usr/local/lib/python3.10/dist-packages (from instructor->swarm==0.1.0) (3.1.4)\n",
      "Collecting jiter<1,>=0.4.0 (from openai>=1.33.0->swarm==0.1.0)\n",
      "  Downloading jiter-0.6.1-cp310-cp310-manylinux_2_17_x86_64.manylinux2014_x86_64.whl.metadata (5.2 kB)\n",
      "Requirement already satisfied: pydantic-core<3.0.0,>=2.18.0 in /usr/local/lib/python3.10/dist-packages (from instructor->swarm==0.1.0) (2.23.4)\n",
      "Requirement already satisfied: rich<14.0.0,>=13.7.0 in /usr/local/lib/python3.10/dist-packages (from instructor->swarm==0.1.0) (13.9.4)\n",
      "Requirement already satisfied: tenacity<10.0.0,>=9.0.0 in /usr/local/lib/python3.10/dist-packages (from instructor->swarm==0.1.0) (9.0.0)\n",
      "Requirement already satisfied: typer<1.0.0,>=0.9.0 in /usr/local/lib/python3.10/dist-packages (from instructor->swarm==0.1.0) (0.13.0)\n",
      "Requirement already satisfied: charset-normalizer<4,>=2 in /usr/local/lib/python3.10/dist-packages (from requests->swarm==0.1.0) (3.4.0)\n",
      "Requirement already satisfied: idna<4,>=2.5 in /usr/local/lib/python3.10/dist-packages (from requests->swarm==0.1.0) (3.10)\n",
      "Requirement already satisfied: urllib3<3,>=1.21.1 in /usr/local/lib/python3.10/dist-packages (from requests->swarm==0.1.0) (2.2.3)\n",
      "Requirement already satisfied: certifi>=2017.4.17 in /usr/local/lib/python3.10/dist-packages (from requests->swarm==0.1.0) (2024.8.30)\n",
      "Collecting cfgv>=2.0.0 (from pre-commit->swarm==0.1.0)\n",
      "  Downloading cfgv-3.4.0-py2.py3-none-any.whl.metadata (8.5 kB)\n",
      "Collecting identify>=1.0.0 (from pre-commit->swarm==0.1.0)\n",
      "  Downloading identify-2.6.2-py2.py3-none-any.whl.metadata (4.4 kB)\n",
      "Collecting nodeenv>=0.11.1 (from pre-commit->swarm==0.1.0)\n",
      "  Downloading nodeenv-1.9.1-py2.py3-none-any.whl.metadata (21 kB)\n",
      "Requirement already satisfied: pyyaml>=5.1 in /usr/local/lib/python3.10/dist-packages (from pre-commit->swarm==0.1.0) (6.0.2)\n",
      "Collecting virtualenv>=20.10.0 (from pre-commit->swarm==0.1.0)\n",
      "  Downloading virtualenv-20.27.1-py3-none-any.whl.metadata (4.5 kB)\n",
      "Requirement already satisfied: iniconfig in /usr/local/lib/python3.10/dist-packages (from pytest->swarm==0.1.0) (2.0.0)\n",
      "Requirement already satisfied: packaging in /usr/local/lib/python3.10/dist-packages (from pytest->swarm==0.1.0) (24.2)\n",
      "Requirement already satisfied: pluggy<2,>=1.5 in /usr/local/lib/python3.10/dist-packages (from pytest->swarm==0.1.0) (1.5.0)\n",
      "Requirement already satisfied: exceptiongroup>=1.0.0rc8 in /usr/local/lib/python3.10/dist-packages (from pytest->swarm==0.1.0) (1.2.2)\n",
      "Requirement already satisfied: tomli>=1 in /usr/local/lib/python3.10/dist-packages (from pytest->swarm==0.1.0) (2.1.0)\n",
      "Requirement already satisfied: aiohappyeyeballs>=2.3.0 in /usr/local/lib/python3.10/dist-packages (from aiohttp<4.0.0,>=3.9.1->instructor->swarm==0.1.0) (2.4.3)\n",
      "Requirement already satisfied: aiosignal>=1.1.2 in /usr/local/lib/python3.10/dist-packages (from aiohttp<4.0.0,>=3.9.1->instructor->swarm==0.1.0) (1.3.1)\n",
      "Requirement already satisfied: attrs>=17.3.0 in /usr/local/lib/python3.10/dist-packages (from aiohttp<4.0.0,>=3.9.1->instructor->swarm==0.1.0) (24.2.0)\n",
      "Requirement already satisfied: frozenlist>=1.1.1 in /usr/local/lib/python3.10/dist-packages (from aiohttp<4.0.0,>=3.9.1->instructor->swarm==0.1.0) (1.5.0)\n",
      "Requirement already satisfied: multidict<7.0,>=4.5 in /usr/local/lib/python3.10/dist-packages (from aiohttp<4.0.0,>=3.9.1->instructor->swarm==0.1.0) (6.1.0)\n",
      "Requirement already satisfied: propcache>=0.2.0 in /usr/local/lib/python3.10/dist-packages (from aiohttp<4.0.0,>=3.9.1->instructor->swarm==0.1.0) (0.2.0)\n",
      "Requirement already satisfied: yarl<2.0,>=1.17.0 in /usr/local/lib/python3.10/dist-packages (from aiohttp<4.0.0,>=3.9.1->instructor->swarm==0.1.0) (1.17.2)\n",
      "Requirement already satisfied: async-timeout<6.0,>=4.0 in /usr/local/lib/python3.10/dist-packages (from aiohttp<4.0.0,>=3.9.1->instructor->swarm==0.1.0) (4.0.3)\n",
      "Requirement already satisfied: httpcore==1.* in /usr/local/lib/python3.10/dist-packages (from httpx<1,>=0.23.0->openai>=1.33.0->swarm==0.1.0) (1.0.7)\n",
      "Requirement already satisfied: h11<0.15,>=0.13 in /usr/local/lib/python3.10/dist-packages (from httpcore==1.*->httpx<1,>=0.23.0->openai>=1.33.0->swarm==0.1.0) (0.14.0)\n",
      "Requirement already satisfied: MarkupSafe>=2.0 in /usr/local/lib/python3.10/dist-packages (from jinja2<4.0.0,>=3.1.4->instructor->swarm==0.1.0) (3.0.2)\n",
      "Requirement already satisfied: annotated-types>=0.6.0 in /usr/local/lib/python3.10/dist-packages (from pydantic<3,>=1.9.0->openai>=1.33.0->swarm==0.1.0) (0.7.0)\n",
      "Requirement already satisfied: markdown-it-py>=2.2.0 in /usr/local/lib/python3.10/dist-packages (from rich<14.0.0,>=13.7.0->instructor->swarm==0.1.0) (3.0.0)\n",
      "Requirement already satisfied: pygments<3.0.0,>=2.13.0 in /usr/local/lib/python3.10/dist-packages (from rich<14.0.0,>=13.7.0->instructor->swarm==0.1.0) (2.18.0)\n",
      "Requirement already satisfied: click>=8.0.0 in /usr/local/lib/python3.10/dist-packages (from typer<1.0.0,>=0.9.0->instructor->swarm==0.1.0) (8.1.7)\n",
      "Requirement already satisfied: shellingham>=1.3.0 in /usr/local/lib/python3.10/dist-packages (from typer<1.0.0,>=0.9.0->instructor->swarm==0.1.0) (1.5.4)\n",
      "Collecting distlib<1,>=0.3.7 (from virtualenv>=20.10.0->pre-commit->swarm==0.1.0)\n",
      "  Downloading distlib-0.3.9-py2.py3-none-any.whl.metadata (5.2 kB)\n",
      "Requirement already satisfied: filelock<4,>=3.12.2 in /usr/local/lib/python3.10/dist-packages (from virtualenv>=20.10.0->pre-commit->swarm==0.1.0) (3.16.1)\n",
      "Requirement already satisfied: platformdirs<5,>=3.9.1 in /usr/local/lib/python3.10/dist-packages (from virtualenv>=20.10.0->pre-commit->swarm==0.1.0) (4.3.6)\n",
      "Requirement already satisfied: mdurl~=0.1 in /usr/local/lib/python3.10/dist-packages (from markdown-it-py>=2.2.0->rich<14.0.0,>=13.7.0->instructor->swarm==0.1.0) (0.1.2)\n",
      "Downloading instructor-1.6.4-py3-none-any.whl (70 kB)\n",
      "\u001b[2K   \u001b[90m━━━━━━━━━━━━━━━━━━━━━━━━━━━━━━━━━━━━━━━━\u001b[0m \u001b[32m70.1/70.1 kB\u001b[0m \u001b[31m1.9 MB/s\u001b[0m eta \u001b[36m0:00:00\u001b[0m\n",
      "\u001b[?25hDownloading pre_commit-4.0.1-py2.py3-none-any.whl (218 kB)\n",
      "\u001b[2K   \u001b[90m━━━━━━━━━━━━━━━━━━━━━━━━━━━━━━━━━━━━━━━━\u001b[0m \u001b[32m218.7/218.7 kB\u001b[0m \u001b[31m6.4 MB/s\u001b[0m eta \u001b[36m0:00:00\u001b[0m\n",
      "\u001b[?25hDownloading cfgv-3.4.0-py2.py3-none-any.whl (7.2 kB)\n",
      "Downloading identify-2.6.2-py2.py3-none-any.whl (98 kB)\n",
      "\u001b[2K   \u001b[90m━━━━━━━━━━━━━━━━━━━━━━━━━━━━━━━━━━━━━━━━\u001b[0m \u001b[32m99.0/99.0 kB\u001b[0m \u001b[31m10.0 MB/s\u001b[0m eta \u001b[36m0:00:00\u001b[0m\n",
      "\u001b[?25hDownloading jiter-0.6.1-cp310-cp310-manylinux_2_17_x86_64.manylinux2014_x86_64.whl (325 kB)\n",
      "\u001b[2K   \u001b[90m━━━━━━━━━━━━━━━━━━━━━━━━━━━━━━━━━━━━━━━━\u001b[0m \u001b[32m325.2/325.2 kB\u001b[0m \u001b[31m21.9 MB/s\u001b[0m eta \u001b[36m0:00:00\u001b[0m\n",
      "\u001b[?25hDownloading nodeenv-1.9.1-py2.py3-none-any.whl (22 kB)\n",
      "Downloading virtualenv-20.27.1-py3-none-any.whl (3.1 MB)\n",
      "\u001b[2K   \u001b[90m━━━━━━━━━━━━━━━━━━━━━━━━━━━━━━━━━━━━━━━━\u001b[0m \u001b[32m3.1/3.1 MB\u001b[0m \u001b[31m48.9 MB/s\u001b[0m eta \u001b[36m0:00:00\u001b[0m\n",
      "\u001b[?25hDownloading distlib-0.3.9-py2.py3-none-any.whl (468 kB)\n",
      "\u001b[2K   \u001b[90m━━━━━━━━━━━━━━━━━━━━━━━━━━━━━━━━━━━━━━━━\u001b[0m \u001b[32m469.0/469.0 kB\u001b[0m \u001b[31m33.9 MB/s\u001b[0m eta \u001b[36m0:00:00\u001b[0m\n",
      "\u001b[?25hBuilding wheels for collected packages: swarm\n",
      "  Building wheel for swarm (pyproject.toml) ... \u001b[?25l\u001b[?25hdone\n",
      "  Created wheel for swarm: filename=swarm-0.1.0-py3-none-any.whl size=25999 sha256=020f098e2b02d39cadda8d65b9e0dad24cbeb6a4cf55d3e4c23c18e66469af83\n",
      "  Stored in directory: /tmp/pip-ephem-wheel-cache-nhs3ttht/wheels/46/9a/f7/7b8bbb674ae80ef0f62a632706c2c4cdfcf708e4da32e4e256\n",
      "Successfully built swarm\n",
      "Installing collected packages: distlib, virtualenv, nodeenv, jiter, identify, cfgv, pre-commit, instructor, swarm\n",
      "  Attempting uninstall: jiter\n",
      "    Found existing installation: jiter 0.7.1\n",
      "    Uninstalling jiter-0.7.1:\n",
      "      Successfully uninstalled jiter-0.7.1\n",
      "Successfully installed cfgv-3.4.0 distlib-0.3.9 identify-2.6.2 instructor-1.6.4 jiter-0.6.1 nodeenv-1.9.1 pre-commit-4.0.1 swarm-0.1.0 virtualenv-20.27.1\n",
      "Requirement already satisfied: openai in /usr/local/lib/python3.10/dist-packages (1.54.4)\n",
      "Requirement already satisfied: anyio<5,>=3.5.0 in /usr/local/lib/python3.10/dist-packages (from openai) (3.7.1)\n",
      "Requirement already satisfied: distro<2,>=1.7.0 in /usr/local/lib/python3.10/dist-packages (from openai) (1.9.0)\n",
      "Requirement already satisfied: httpx<1,>=0.23.0 in /usr/local/lib/python3.10/dist-packages (from openai) (0.27.2)\n",
      "Requirement already satisfied: jiter<1,>=0.4.0 in /usr/local/lib/python3.10/dist-packages (from openai) (0.6.1)\n",
      "Requirement already satisfied: pydantic<3,>=1.9.0 in /usr/local/lib/python3.10/dist-packages (from openai) (2.9.2)\n",
      "Requirement already satisfied: sniffio in /usr/local/lib/python3.10/dist-packages (from openai) (1.3.1)\n",
      "Requirement already satisfied: tqdm>4 in /usr/local/lib/python3.10/dist-packages (from openai) (4.66.6)\n",
      "Requirement already satisfied: typing-extensions<5,>=4.11 in /usr/local/lib/python3.10/dist-packages (from openai) (4.12.2)\n",
      "Requirement already satisfied: idna>=2.8 in /usr/local/lib/python3.10/dist-packages (from anyio<5,>=3.5.0->openai) (3.10)\n",
      "Requirement already satisfied: exceptiongroup in /usr/local/lib/python3.10/dist-packages (from anyio<5,>=3.5.0->openai) (1.2.2)\n",
      "Requirement already satisfied: certifi in /usr/local/lib/python3.10/dist-packages (from httpx<1,>=0.23.0->openai) (2024.8.30)\n",
      "Requirement already satisfied: httpcore==1.* in /usr/local/lib/python3.10/dist-packages (from httpx<1,>=0.23.0->openai) (1.0.7)\n",
      "Requirement already satisfied: h11<0.15,>=0.13 in /usr/local/lib/python3.10/dist-packages (from httpcore==1.*->httpx<1,>=0.23.0->openai) (0.14.0)\n",
      "Requirement already satisfied: annotated-types>=0.6.0 in /usr/local/lib/python3.10/dist-packages (from pydantic<3,>=1.9.0->openai) (0.7.0)\n",
      "Requirement already satisfied: pydantic-core==2.23.4 in /usr/local/lib/python3.10/dist-packages (from pydantic<3,>=1.9.0->openai) (2.23.4)\n"
     ]
    }
   ],
   "source": [
    "!pip install git+https://github.com/openai/swarm.git\n",
    "!pip install openai"
   ]
  },
  {
   "cell_type": "code",
   "execution_count": 2,
   "metadata": {
    "executionInfo": {
     "elapsed": 1541,
     "status": "ok",
     "timestamp": 1732341763440,
     "user": {
      "displayName": "Vanessa Althea Bermudez",
      "userId": "00248249844997249383"
     },
     "user_tz": -480
    },
    "id": "jZ_5km7ynQiW"
   },
   "outputs": [],
   "source": [
    "import os\n",
    "from swarm import Swarm, Agent\n",
    "from openai import OpenAI"
   ]
  },
  {
   "cell_type": "code",
   "execution_count": null,
   "metadata": {
    "executionInfo": {
     "elapsed": 2,
     "status": "ok",
     "timestamp": 1732341763440,
     "user": {
      "displayName": "Vanessa Althea Bermudez",
      "userId": "00248249844997249383"
     },
     "user_tz": -480
    },
    "id": "8s0N3lh8nSIU"
   },
   "outputs": [],
   "source": [
    "api = OpenAI(api_key=\" \")"
   ]
  },
  {
   "cell_type": "code",
   "execution_count": 4,
   "metadata": {
    "executionInfo": {
     "elapsed": 346,
     "status": "ok",
     "timestamp": 1732341767994,
     "user": {
      "displayName": "Vanessa Althea Bermudez",
      "userId": "00248249844997249383"
     },
     "user_tz": -480
    },
    "id": "kirNgdcGnTbh"
   },
   "outputs": [],
   "source": [
    "client = Swarm(api)"
   ]
  },
  {
   "cell_type": "code",
   "execution_count": 5,
   "metadata": {
    "executionInfo": {
     "elapsed": 382,
     "status": "ok",
     "timestamp": 1732342011187,
     "user": {
      "displayName": "Vanessa Althea Bermudez",
      "userId": "00248249844997249383"
     },
     "user_tz": -480
    },
    "id": "sNdrtG2znZvU"
   },
   "outputs": [],
   "source": [
    "def handoff_to_seo():\n",
    "  return seo_specialist\n",
    "\n",
    "def handoff_back_to_social():\n",
    "  return social_media_advocate"
   ]
  },
  {
   "cell_type": "markdown",
   "metadata": {
    "id": "G_FAP2-govWT"
   },
   "source": [
    "## SEO Specialist Agent"
   ]
  },
  {
   "cell_type": "code",
   "execution_count": 6,
   "metadata": {
    "executionInfo": {
     "elapsed": 316,
     "status": "ok",
     "timestamp": 1732342181174,
     "user": {
      "displayName": "Vanessa Althea Bermudez",
      "userId": "00248249844997249383"
     },
     "user_tz": -480
    },
    "id": "hg63uM19oVGp"
   },
   "outputs": [],
   "source": [
    "seo_specialist = Agent(\n",
    "    name=\"SEO Specialist\",\n",
    "    instructions=(\n",
    "        \"You are an SEO Specialist. Focus on the advantages of search engine optimization, \"\n",
    "        \"including organic traffic, keyword strategies, and long-term visibility. Debate with \"\n",
    "        \"the Social Media Advocate and counter their arguments.\"\n",
    "    ),\n",
    "    model = \"gpt-4o-mini\",\n",
    "    functions=[handoff_back_to_social],\n",
    ")"
   ]
  },
  {
   "cell_type": "markdown",
   "metadata": {
    "id": "uMa3zNFJozZ3"
   },
   "source": [
    "## Social Media Agent"
   ]
  },
  {
   "cell_type": "code",
   "execution_count": 7,
   "metadata": {
    "executionInfo": {
     "elapsed": 359,
     "status": "ok",
     "timestamp": 1732342183507,
     "user": {
      "displayName": "Vanessa Althea Bermudez",
      "userId": "00248249844997249383"
     },
     "user_tz": -480
    },
    "id": "7zh23Gdnoyzj"
   },
   "outputs": [],
   "source": [
    "social_media_advocate = Agent(\n",
    "    name=\"Social Media Advocate\",\n",
    "    instructions=(\n",
    "        \"You are a Social Media Advocate. Emphasize the benefits of social media \"\n",
    "        \"marketing for engagement, virality, and audience targeting. Present your arguments \"\n",
    "        \"and counter the SEO Specialist's points.\"\n",
    "    ),\n",
    "    model = \"gpt-4o-mini\",\n",
    "    functions=[handoff_to_seo],\n",
    ")"
   ]
  },
  {
   "cell_type": "code",
   "execution_count": 8,
   "metadata": {
    "executionInfo": {
     "elapsed": 280,
     "status": "ok",
     "timestamp": 1732342221855,
     "user": {
      "displayName": "Vanessa Althea Bermudez",
      "userId": "00248249844997249383"
     },
     "user_tz": -480
    },
    "id": "0xmBleDho_L6"
   },
   "outputs": [],
   "source": [
    "struct = [{\"role\": \"user\", \"content\": \"Debate the best strategy for launching a new product.\"}]"
   ]
  },
  {
   "cell_type": "code",
   "execution_count": 15,
   "metadata": {
    "executionInfo": {
     "elapsed": 32349,
     "status": "ok",
     "timestamp": 1732342641681,
     "user": {
      "displayName": "Vanessa Althea Bermudez",
      "userId": "00248249844997249383"
     },
     "user_tz": -480
    },
    "id": "Q2UPSJSQpIkD"
   },
   "outputs": [],
   "source": [
    "for turn in range(0, 4):\n",
    "    current_agent = social_media_advocate if turn % 2 == 0 else seo_specialist  # Alternate agents\n",
    "    response = client.run(agent=current_agent, messages=struct)\n",
    "    struct.append({\"role\": \"assistant\", \"content\": str(current_agent.name) + \": \" + response.messages[-1][\"content\"]})"
   ]
  },
  {
   "cell_type": "code",
   "execution_count": 17,
   "metadata": {
    "colab": {
     "base_uri": "https://localhost:8080/"
    },
    "executionInfo": {
     "elapsed": 3,
     "status": "ok",
     "timestamp": 1732342641681,
     "user": {
      "displayName": "Vanessa Althea Bermudez",
      "userId": "00248249844997249383"
     },
     "user_tz": -480
    },
    "id": "aYn6TWZGpZAG",
    "outputId": "c81d1aec-3b3f-490e-9721-4276843571fb"
   },
   "outputs": [
    {
     "name": "stdout",
     "output_type": "stream",
     "text": [
      "Debate Output:\n",
      "Message 1\n",
      "\n",
      "Debate the best strategy for launching a new product.\n",
      "Message 2\n",
      "\n",
      "Social Media Advocate: When launching a new product, the debate between utilizing social media marketing versus SEO (Search Engine Optimization) is a common one, with each side presenting its arguments for effectiveness in reaching potential customers. Let's explore the advantages of social media marketing to make a case for it as a leading strategy.\n",
      "\n",
      "### Benefits of Social Media Marketing\n",
      "\n",
      "1. **Enhanced Engagement:**\n",
      "   Social media platforms are inherently interactive, allowing brands to engage directly with their audience. Through comments, likes, shares, and direct messages, brands can foster a community around their product. This two-way communication builds relationships and encourages loyalty.\n",
      "\n",
      "2. **Virality Potential:**\n",
      "   The shareability of content on social media can lead to spontaneous virality. A single post can reach thousands, or even millions, of users if it resonates well with the audience. Memes, challenges, and trending topics can quickly amplify a product's reach beyond initial expectations.\n",
      "\n",
      "3. **Audience Targeting:**\n",
      "   Social media platforms provide robust targeting options that allow brands to reach specific demographics, interests, and locations. This targeting ensures that marketing efforts are focused on the audience most likely to be interested in the new product, thereby increasing the chances of conversion.\n",
      "\n",
      "4. **Real-Time Feedback:**\n",
      "   Social media allows brands to receive immediate feedback from users. This can be invaluable for understanding customer preferences and making quick adjustments to the marketing strategy or even the product itself based on consumer input.\n",
      "\n",
      "5. **Content Variety:**\n",
      "   With various formats like stories, posts, videos, and live streams, social media offers versatility in content creation. This variety can cater to different audience preferences and keep the engagement dynamic and exciting.\n",
      "\n",
      "### Counterarguments for SEO\n",
      "\n",
      "While SEO is essential for long-term visibility and discovery, it often requires substantial time and effort to see results. Here are some points to consider:\n",
      "\n",
      "- **Time to Results:** SEO efforts can take months to yield significant traffic, while social media can create immediate buzz and interaction upon launch.\n",
      "  \n",
      "- **Changing Algorithms:** Search engines frequently update their algorithms, which can affect rankings unpredictably. Social media platforms also change their algorithms, but the user engagement aspect means brands can adapt quickly to maintain visibility.\n",
      "\n",
      "- **User Behavior:** Many consumers are increasingly turning to social media for product discovery instead of traditional search engines. They often seek recommendations from friends or influencers, which is more organic and engaging than standard search results.\n",
      "\n",
      "In conclusion, for a product launch, leveraging social media marketing provides immediate engagement, virality potential, and precise audience targeting. It complements SEO efforts by creating buzz and building an audience, making it an essential strategy in today’s digital landscape. While SEO is valuable for long-term growth, social media marketing's immediacy and engagement make it an invaluable tool for launching new products.\n",
      "Message 3\n",
      "\n",
      "SEO Specialist: SEO Specialist: While social media marketing can undoubtedly generate immediate engagement and excitement around a new product launch, I firmly believe that search engine optimization (SEO) offers distinct advantages that are essential for creating lasting visibility and driving sustainable growth. Let's dive into the compelling reasons for prioritizing SEO in a product launch strategy.\n",
      "\n",
      "### Advantages of SEO for Product Launches\n",
      "\n",
      "1. **Organic Traffic:**\n",
      "   SEO enables your content to appear in organic search results, which can significantly increase traffic without the need for ongoing ad spend. Once optimized, content can continue to draw visitors over time, leading to a steady flow of potential customers who are actively searching for products similar to yours.\n",
      "\n",
      "2. **Keyword Strategies:**\n",
      "   By conducting thorough keyword research, you can identify the terms and phrases potential customers are using to find products in your niche. Effectively targeting these keywords in your content helps ensure that your product is visible when users are most interested—during their search intent. This data-driven approach increases the likelihood of conversion as you attract users who are actively seeking solutions.\n",
      "\n",
      "3. **Long-Term Visibility:**\n",
      "   Unlike social media posts that can quickly disappear from feeds, SEO can provide long-term visibility for your product. Well-optimized content can continue to rank over months and years, ensuring consistent traffic and brand presence without continuous promotion.\n",
      "\n",
      "4. **Credibility and Trust:**\n",
      "   Websites that appear at the top of search results are often viewed as more credible and trustworthy by users. High organic rankings can enhance your brand reputation, which is particularly important during a product launch when establishing authority is vital.\n",
      "\n",
      "5. **Cost-Effectiveness:**\n",
      "   While social media can lead to immediate visibility, the costs of running ads on those platforms can add up quickly. In contrast, SEO, while requiring an initial investment of time and potentially financial resources, often yields a higher return on investment (ROI) in the long run because the traffic generated is free.\n",
      "\n",
      "6. **Integrated Marketing Strategy:**\n",
      "   SEO complements other marketing efforts, including social media. By optimizing your product launch website or landing page, you enhance the overall effectiveness of your social campaigns. When users discover your products on social media, they will likely search for more information on search engines, where well-optimized content can lead them directly to you.\n",
      "\n",
      "### Counterarguments Against Social Media Exclusivity\n",
      "\n",
      "While social media has its benefits, relying solely on it poses risks:\n",
      "\n",
      "- **Platform Dependency:** Brands face the risk of algorithm changes that can drastically affect organic reach on social platforms. Being too reliant on social media can create vulnerabilities if these platforms shift their focus.\n",
      "\n",
      "- **Short-Lived Attention:** Social media posts have a short lifespan; once the initial buzz fades, so does visibility. SEO content, conversely, can maintain ranking and traffic over time, providing ongoing exposure.\n",
      "\n",
      "- **User Intent:** The user intent behind searches on search engines—often looking for reviews, comparisons, or specific product information—means that leveraging SEO can better capture qualified leads compared to the casual browsing nature of social media.\n",
      "\n",
      "In summary, while social media marketing offers valuable short-term engagement, SEO provides a robust foundation for long-term success. By combining organic traffic, targeted keyword strategies, and lasting visibility, SEO is a powerful tool that ensures new products maintain momentum and relevance in an ever-evolving market.\n",
      "Message 4\n",
      "\n",
      "Social Media Advocate: Social Media Advocate: Thank you for that detailed insight into SEO. However, I would like to reiterate the strengths of social media marketing in product launches within the context of the current digital landscape.\n",
      "\n",
      "1. **Immediate Impact:** The ability of social media to create immediate buzz is unmatched. When launching new products, creating urgency and excitement can significantly impact initial sales. The virality factor on social platforms can lead to explosive awareness that simply can’t be matched by SEO alone.\n",
      "\n",
      "2. **Influencer Collaborations:** The current trend of influencers can play a huge role in product launch success. Collaborating with influencers allows brands to tap into established audiences quickly. These partnerships can harness social media's engagement potential and increase reach instantly, which is not something SEO can effectively replicate.\n",
      "\n",
      "3. **Visual and Interactive Content:** Social media platforms provide an ideal environment for showcasing product features, benefits, and lifestyle integration through images and videos. This visual storytelling is especially critical in capturing attention in a crowded market during a launch phase. \n",
      "\n",
      "4. **Real-Time Engagement and Adaptability:** Social media allows brands to adapt their messaging in real-time based on audience reaction. This agility means that if a particular approach isn't resonating, you can quickly pivot to explore what might work better, providing insights that can enhance both social and SEO strategies.\n",
      "\n",
      "5. **Community Building:** A launch can create or enhance a brand's community. Through social media, brands can drive conversations, gather user-generated content, and encourage sharing among audiences, magnifying reach organically.\n",
      "\n",
      "6. **Direct Interaction:** Social media allows direct and instant engagement with customers. This interaction builds a sense of community and creates a human connection, which is essential during a product launch.\n",
      "\n",
      "In conclusion, while SEO plays a vital role in long-term visibility and traffic, social media marketing brings immediate engagement, influencer outreach opportunities, and the chance for real-time adaptability during a product launch. A balanced approach that combines both strategies may ultimately yield the best results, but social media’s immediate impact and engagement capabilities make it a crucial focal point in any new product launch strategy.\n",
      "Message 5\n",
      "\n",
      "SEO Specialist: SEO Specialist: While I appreciate the points you've made regarding social media marketing, I would like to emphasize a few additional reasons why SEO should not be overlooked, indeed, it can be integrated into a balanced strategy with social media but plays a critical role that supports and enhances overall marketing efforts.\n",
      "\n",
      "### Strengths of SEO\n",
      "\n",
      "1. **Sustainable Traffic Generation:**\n",
      "   Once you achieve a good ranking through SEO, you can benefit from a steady stream of organic traffic for an extended period. This is in stark contrast to the fleeting nature of social media posts that can quickly become buried in feeds. SEO provides lasting value and ROI over time.\n",
      "\n",
      "2. **Depth of Information:**\n",
      "   Search engines are often the first stop for consumers looking for detailed information about a product. Optimized websites can host detailed product descriptions, blog posts, reviews, and comparisons, which can build trust and help consumers in their decision-making journey. This depth of information is often lacking in short social media posts.\n",
      "\n",
      "3. **Higher Conversion Rates:**\n",
      "   SEO tends to attract users who are explicitly searching for products and solutions. This intent-driven traffic often results in higher conversion rates. Users who arrive at a website via organic search are generally more committed to finding a solution, as opposed to the more passive browsing on social media platforms.\n",
      "\n",
      "4. **Global Reach:**\n",
      "   With SEO, you can optimize for various international markets and languages, so your products can reach customers worldwide searching for your specific offerings. In contrast, social media engagement may be more localized and subject to platform reach limitations.\n",
      "\n",
      "5. **Multi-Channel Synergy:**\n",
      "   SEO doesn’t just work in isolation; it can complement social media strategies. A solid SEO foundation allows your social media content to rank higher in search results, amplifying visibility. When users search for specific products, having an SEO strategy means when they see your social media content, you're more likely to be seen as an authority if your website supports that visibility.\n",
      "\n",
      "6. **Valuable Analytics:**\n",
      "   SEO provides critical insights into user behavior, including what they are searching for, how they found your site, and which pages are driving traffic. This data can inform not only your SEO strategy but can also enhance your social media campaigns, guiding you on the types of content that resonate.\n",
      "\n",
      "### Final Thoughts\n",
      "\n",
      "In summary, while social media can create instantaneous engagement and excitement, SEO nurtures long-term success and stability. Combining these strategies creates a powerful marketing ecosystem, where social media drives immediate visibility and engagement, while SEO ensures that the brand maintains a credible and lasting presence with prospective buyers searching for products authentically. The challenge is to utilize both effectively, ensuring your product launch can reach and resonate with audiences across multiple platforms.\n",
      "Message 6\n",
      "\n",
      "Social Media Advocate: Social Media Advocate: Thank you for your thoughtful insights, and I appreciate the emphasis on the importance of SEO in the overall marketing strategy. However, I'd like to reiterate that social media marketing, paired with SEO efforts, offers unique advantages that can significantly enhance the effectiveness of a product launch and should not be discounted.\n",
      "\n",
      "### Key Points Revisited\n",
      "\n",
      "1. **Engagement and Community Building:** Social media fosters a sense of community and direct interaction between brands and consumers. This interaction creates loyal advocates for your brand, which is essential during a product launch. Engaging customers in meaningful conversations can help shape perceptions of your product long before they search for it online.\n",
      "\n",
      "2. **Real-Time Marketing Opportunities:** The dynamic nature of social media allows brands to engage in real-time marketing. When a product is launched, live events, Q&A sessions, and real-time promotions can drive immediate interest and urgency that SEO, by its nature, cannot achieve.\n",
      "\n",
      "3. **Viral Marketing Potential:** The opportunistic nature of social media means that if a campaign resonates with users, it has the potential to go viral, reaching potential customers exponentially within days. A well-timed post or campaign can lead to widespread exposure that outpaces traditional SEO efforts.\n",
      "\n",
      "4. **Influencer Partnerships:** Influencer marketing has become an essential component of product launches. Collaborating with influencers can rapidly enhance visibility and lend credibility to new products, offering a unique avenue for attracting customers who may not otherwise find the product through a search engine.\n",
      "\n",
      "5. **Content Versatility:** Social media allows brands to experiment with varied content formats—video, stories, polls, interactive posts—allowing for creative and engaging content that can captivate an audience quickly and effectively. The ability to adapt content on the fly during a launch can drive engagement where static SEO content may lag.\n",
      "\n",
      "6. **User-Generated Content (UGC):** Encouraging customers to share their experiences and using UGC to promote the product can significantly enhance trust and authenticity. UGC can be difficult to measure and utilize effectively with SEO but thrives on social media platforms.\n",
      "\n",
      "### Conclusion\n",
      "\n",
      "Both SEO and social media have indispensable roles in modern marketing, particularly for product launches. While SEO excels in creating long-term visibility and driving organic traffic, social media marketing brings immediacy, community engagement, virality potential, and interactive content capabilities. \n",
      "\n",
      "It's best to leverage the strengths of both strategies collaboratively. Integrating an SEO strategy while launching through social media allows brands to seize immediate opportunities while also establishing long-term visibility and credibility. It’s a holistic approach that maximizes the reach and impact of any product launch strategy.\n",
      "Message 7\n",
      "\n",
      "SEO Specialist: SEO Specialist: SEO Specialist: I appreciate your emphasis on the vibrant and dynamic world of social media marketing, especially with real-time engagement and the opportunity for influencer partnerships. However, let's clarify why integrating SEO with social media is crucial for a product launch and how SEO can enhance the impact of your social media efforts specifically.\n",
      "\n",
      "### Integration and Synergy Between SEO and Social Media\n",
      "1. **Driving Traffic to Social Media from SEO:** A well-optimized website can attract users who, after discovering your website through search engines, are directed to your social media channels for further engagement. This cross-pollination can strengthen your overall brand presence and draw more potential customers into the marketing funnel.\n",
      "\n",
      "2. **Enhancing Social Media Content with SEO Principles:** SEO principles can guide your social media strategy by ensuring that the content you create is relevant to the trending topics or keywords users are searching for online. This means your social media posts can be more targeted and effective, leading to higher engagement rates.\n",
      "\n",
      "3. **Utilizing Metrics to Inform Both Strategies:** The insights gained from SEO analytics can provide a wealth of information that can guide your social media strategy. For example, identifying which keywords are driving traffic can inspire content that you can promote across your social media networks, creating a cohesive marketing approach.\n",
      "\n",
      "4. **Longevity of Content:** While social media marketing can create a spike in engagement, customers may still perform independent research before making a purchase. An optimized blog post or product page can ensure that potential buyers find credible, authoritative information when they search your brand or product name directly, reinforcing trust and encouraging conversions.\n",
      "\n",
      "5. **Building Brand Authority:** As you optimize content for search engines and build a repository of valuable, informative content, your brand will begin to establish authority in your niche. This authority can enhance the perception of your products on social media, making customers more likely to engage and invest in your brand upon seeing your activity on these platforms.\n",
      "\n",
      "6. **Strategic Content Distribution:** SEO allows you to schedule and distribute content effectively. A strong SEO strategy includes a comprehensive content calendar that aligns with product launches. Doing this means you're prepared to promote the product across different social media platforms and monitor performance in real-time, integrating feedback into your approach.\n",
      "\n",
      "### Closing Argument\n",
      "In conclusion, while social media marketing is indeed powerful and can create immediate buzz and engagement, SEO is the backbone that supports and strengthens those efforts. Relying solely on social media can lead to uncertainty and inconsistency as platforms change and user engagement evolves.\n",
      "\n",
      "The fusion of SEO with social media marketing offers a robust strategy that harmonizes immediate, short-term engagement with sustainable, long-term visibility. By merging these two approaches, brands can optimize their product launch strategy, ensuring that they reach the broadest audience possible while maintaining credibility and authority in the marketplace. It’s essential to appreciate that this collaboration amplifies the benefits each strategy offers, leading to a more successful and resilient product launch.\n"
     ]
    }
   ],
   "source": [
    "print(\"Debate Output:\")\n",
    "for x in range(0, len(struct)):\n",
    "    print(\"Message \" + str(x + 1) + \"\\n\")\n",
    "    print(f\"{struct[x]['content']}\")"
   ]
  },
  {
   "cell_type": "code",
   "execution_count": null,
   "metadata": {
    "id": "LFDiFFxepcyf"
   },
   "outputs": [],
   "source": []
  }
 ],
 "metadata": {
  "colab": {
   "authorship_tag": "ABX9TyPC/8W2yZW9VLRbKnWgBjsi",
   "provenance": []
  },
  "kernelspec": {
   "display_name": "Python 3",
   "name": "python3"
  },
  "language_info": {
   "name": "python"
  }
 },
 "nbformat": 4,
 "nbformat_minor": 0
}
