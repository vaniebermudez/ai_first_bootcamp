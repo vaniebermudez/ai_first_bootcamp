{
 "cells": [
  {
   "cell_type": "code",
   "execution_count": null,
   "metadata": {
    "colab": {
     "base_uri": "https://localhost:8080/"
    },
    "id": "S6-Qv-ZWsfuV",
    "outputId": "dbc8e769-251e-4f79-b5ed-defed1c3c4e3"
   },
   "outputs": [
    {
     "name": "stdout",
     "output_type": "stream",
     "text": [
      "Collecting git+https://github.com/openai/swarm.git\n",
      "  Cloning https://github.com/openai/swarm.git to /tmp/pip-req-build-db01alft\n",
      "  Running command git clone --filter=blob:none --quiet https://github.com/openai/swarm.git /tmp/pip-req-build-db01alft\n",
      "  Resolved https://github.com/openai/swarm.git to commit 9db581cecaacea0d46a933d6453c312b034dbf47\n",
      "  Installing build dependencies ... \u001b[?25l\u001b[?25hdone\n",
      "  Getting requirements to build wheel ... \u001b[?25l\u001b[?25hdone\n",
      "  Preparing metadata (pyproject.toml) ... \u001b[?25l\u001b[?25hdone\n",
      "Requirement already satisfied: numpy in /usr/local/lib/python3.10/dist-packages (from swarm==0.1.0) (1.26.4)\n",
      "Requirement already satisfied: openai>=1.33.0 in /usr/local/lib/python3.10/dist-packages (from swarm==0.1.0) (1.54.4)\n",
      "Requirement already satisfied: pytest in /usr/local/lib/python3.10/dist-packages (from swarm==0.1.0) (8.3.3)\n",
      "Requirement already satisfied: requests in /usr/local/lib/python3.10/dist-packages (from swarm==0.1.0) (2.32.3)\n",
      "Requirement already satisfied: tqdm in /usr/local/lib/python3.10/dist-packages (from swarm==0.1.0) (4.66.6)\n",
      "Requirement already satisfied: pre-commit in /usr/local/lib/python3.10/dist-packages (from swarm==0.1.0) (4.0.1)\n",
      "Requirement already satisfied: instructor in /usr/local/lib/python3.10/dist-packages (from swarm==0.1.0) (1.6.4)\n",
      "Requirement already satisfied: anyio<5,>=3.5.0 in /usr/local/lib/python3.10/dist-packages (from openai>=1.33.0->swarm==0.1.0) (3.7.1)\n",
      "Requirement already satisfied: distro<2,>=1.7.0 in /usr/local/lib/python3.10/dist-packages (from openai>=1.33.0->swarm==0.1.0) (1.9.0)\n",
      "Requirement already satisfied: httpx<1,>=0.23.0 in /usr/local/lib/python3.10/dist-packages (from openai>=1.33.0->swarm==0.1.0) (0.27.2)\n",
      "Requirement already satisfied: jiter<1,>=0.4.0 in /usr/local/lib/python3.10/dist-packages (from openai>=1.33.0->swarm==0.1.0) (0.6.1)\n",
      "Requirement already satisfied: pydantic<3,>=1.9.0 in /usr/local/lib/python3.10/dist-packages (from openai>=1.33.0->swarm==0.1.0) (2.9.2)\n",
      "Requirement already satisfied: sniffio in /usr/local/lib/python3.10/dist-packages (from openai>=1.33.0->swarm==0.1.0) (1.3.1)\n",
      "Requirement already satisfied: typing-extensions<5,>=4.11 in /usr/local/lib/python3.10/dist-packages (from openai>=1.33.0->swarm==0.1.0) (4.12.2)\n",
      "Requirement already satisfied: aiohttp<4.0.0,>=3.9.1 in /usr/local/lib/python3.10/dist-packages (from instructor->swarm==0.1.0) (3.11.2)\n",
      "Requirement already satisfied: docstring-parser<0.17,>=0.16 in /usr/local/lib/python3.10/dist-packages (from instructor->swarm==0.1.0) (0.16)\n",
      "Requirement already satisfied: jinja2<4.0.0,>=3.1.4 in /usr/local/lib/python3.10/dist-packages (from instructor->swarm==0.1.0) (3.1.4)\n",
      "Requirement already satisfied: pydantic-core<3.0.0,>=2.18.0 in /usr/local/lib/python3.10/dist-packages (from instructor->swarm==0.1.0) (2.23.4)\n",
      "Requirement already satisfied: rich<14.0.0,>=13.7.0 in /usr/local/lib/python3.10/dist-packages (from instructor->swarm==0.1.0) (13.9.4)\n",
      "Requirement already satisfied: tenacity<10.0.0,>=9.0.0 in /usr/local/lib/python3.10/dist-packages (from instructor->swarm==0.1.0) (9.0.0)\n",
      "Requirement already satisfied: typer<1.0.0,>=0.9.0 in /usr/local/lib/python3.10/dist-packages (from instructor->swarm==0.1.0) (0.13.0)\n",
      "Requirement already satisfied: charset-normalizer<4,>=2 in /usr/local/lib/python3.10/dist-packages (from requests->swarm==0.1.0) (3.4.0)\n",
      "Requirement already satisfied: idna<4,>=2.5 in /usr/local/lib/python3.10/dist-packages (from requests->swarm==0.1.0) (3.10)\n",
      "Requirement already satisfied: urllib3<3,>=1.21.1 in /usr/local/lib/python3.10/dist-packages (from requests->swarm==0.1.0) (2.2.3)\n",
      "Requirement already satisfied: certifi>=2017.4.17 in /usr/local/lib/python3.10/dist-packages (from requests->swarm==0.1.0) (2024.8.30)\n",
      "Requirement already satisfied: cfgv>=2.0.0 in /usr/local/lib/python3.10/dist-packages (from pre-commit->swarm==0.1.0) (3.4.0)\n",
      "Requirement already satisfied: identify>=1.0.0 in /usr/local/lib/python3.10/dist-packages (from pre-commit->swarm==0.1.0) (2.6.2)\n",
      "Requirement already satisfied: nodeenv>=0.11.1 in /usr/local/lib/python3.10/dist-packages (from pre-commit->swarm==0.1.0) (1.9.1)\n",
      "Requirement already satisfied: pyyaml>=5.1 in /usr/local/lib/python3.10/dist-packages (from pre-commit->swarm==0.1.0) (6.0.2)\n",
      "Requirement already satisfied: virtualenv>=20.10.0 in /usr/local/lib/python3.10/dist-packages (from pre-commit->swarm==0.1.0) (20.27.1)\n",
      "Requirement already satisfied: iniconfig in /usr/local/lib/python3.10/dist-packages (from pytest->swarm==0.1.0) (2.0.0)\n",
      "Requirement already satisfied: packaging in /usr/local/lib/python3.10/dist-packages (from pytest->swarm==0.1.0) (24.2)\n",
      "Requirement already satisfied: pluggy<2,>=1.5 in /usr/local/lib/python3.10/dist-packages (from pytest->swarm==0.1.0) (1.5.0)\n",
      "Requirement already satisfied: exceptiongroup>=1.0.0rc8 in /usr/local/lib/python3.10/dist-packages (from pytest->swarm==0.1.0) (1.2.2)\n",
      "Requirement already satisfied: tomli>=1 in /usr/local/lib/python3.10/dist-packages (from pytest->swarm==0.1.0) (2.1.0)\n",
      "Requirement already satisfied: aiohappyeyeballs>=2.3.0 in /usr/local/lib/python3.10/dist-packages (from aiohttp<4.0.0,>=3.9.1->instructor->swarm==0.1.0) (2.4.3)\n",
      "Requirement already satisfied: aiosignal>=1.1.2 in /usr/local/lib/python3.10/dist-packages (from aiohttp<4.0.0,>=3.9.1->instructor->swarm==0.1.0) (1.3.1)\n",
      "Requirement already satisfied: attrs>=17.3.0 in /usr/local/lib/python3.10/dist-packages (from aiohttp<4.0.0,>=3.9.1->instructor->swarm==0.1.0) (24.2.0)\n",
      "Requirement already satisfied: frozenlist>=1.1.1 in /usr/local/lib/python3.10/dist-packages (from aiohttp<4.0.0,>=3.9.1->instructor->swarm==0.1.0) (1.5.0)\n",
      "Requirement already satisfied: multidict<7.0,>=4.5 in /usr/local/lib/python3.10/dist-packages (from aiohttp<4.0.0,>=3.9.1->instructor->swarm==0.1.0) (6.1.0)\n",
      "Requirement already satisfied: propcache>=0.2.0 in /usr/local/lib/python3.10/dist-packages (from aiohttp<4.0.0,>=3.9.1->instructor->swarm==0.1.0) (0.2.0)\n",
      "Requirement already satisfied: yarl<2.0,>=1.17.0 in /usr/local/lib/python3.10/dist-packages (from aiohttp<4.0.0,>=3.9.1->instructor->swarm==0.1.0) (1.17.2)\n",
      "Requirement already satisfied: async-timeout<6.0,>=4.0 in /usr/local/lib/python3.10/dist-packages (from aiohttp<4.0.0,>=3.9.1->instructor->swarm==0.1.0) (4.0.3)\n",
      "Requirement already satisfied: httpcore==1.* in /usr/local/lib/python3.10/dist-packages (from httpx<1,>=0.23.0->openai>=1.33.0->swarm==0.1.0) (1.0.7)\n",
      "Requirement already satisfied: h11<0.15,>=0.13 in /usr/local/lib/python3.10/dist-packages (from httpcore==1.*->httpx<1,>=0.23.0->openai>=1.33.0->swarm==0.1.0) (0.14.0)\n",
      "Requirement already satisfied: MarkupSafe>=2.0 in /usr/local/lib/python3.10/dist-packages (from jinja2<4.0.0,>=3.1.4->instructor->swarm==0.1.0) (3.0.2)\n",
      "Requirement already satisfied: annotated-types>=0.6.0 in /usr/local/lib/python3.10/dist-packages (from pydantic<3,>=1.9.0->openai>=1.33.0->swarm==0.1.0) (0.7.0)\n",
      "Requirement already satisfied: markdown-it-py>=2.2.0 in /usr/local/lib/python3.10/dist-packages (from rich<14.0.0,>=13.7.0->instructor->swarm==0.1.0) (3.0.0)\n",
      "Requirement already satisfied: pygments<3.0.0,>=2.13.0 in /usr/local/lib/python3.10/dist-packages (from rich<14.0.0,>=13.7.0->instructor->swarm==0.1.0) (2.18.0)\n",
      "Requirement already satisfied: click>=8.0.0 in /usr/local/lib/python3.10/dist-packages (from typer<1.0.0,>=0.9.0->instructor->swarm==0.1.0) (8.1.7)\n",
      "Requirement already satisfied: shellingham>=1.3.0 in /usr/local/lib/python3.10/dist-packages (from typer<1.0.0,>=0.9.0->instructor->swarm==0.1.0) (1.5.4)\n",
      "Requirement already satisfied: distlib<1,>=0.3.7 in /usr/local/lib/python3.10/dist-packages (from virtualenv>=20.10.0->pre-commit->swarm==0.1.0) (0.3.9)\n",
      "Requirement already satisfied: filelock<4,>=3.12.2 in /usr/local/lib/python3.10/dist-packages (from virtualenv>=20.10.0->pre-commit->swarm==0.1.0) (3.16.1)\n",
      "Requirement already satisfied: platformdirs<5,>=3.9.1 in /usr/local/lib/python3.10/dist-packages (from virtualenv>=20.10.0->pre-commit->swarm==0.1.0) (4.3.6)\n",
      "Requirement already satisfied: mdurl~=0.1 in /usr/local/lib/python3.10/dist-packages (from markdown-it-py>=2.2.0->rich<14.0.0,>=13.7.0->instructor->swarm==0.1.0) (0.1.2)\n",
      "Requirement already satisfied: openai in /usr/local/lib/python3.10/dist-packages (1.54.4)\n",
      "Requirement already satisfied: anyio<5,>=3.5.0 in /usr/local/lib/python3.10/dist-packages (from openai) (3.7.1)\n",
      "Requirement already satisfied: distro<2,>=1.7.0 in /usr/local/lib/python3.10/dist-packages (from openai) (1.9.0)\n",
      "Requirement already satisfied: httpx<1,>=0.23.0 in /usr/local/lib/python3.10/dist-packages (from openai) (0.27.2)\n",
      "Requirement already satisfied: jiter<1,>=0.4.0 in /usr/local/lib/python3.10/dist-packages (from openai) (0.6.1)\n",
      "Requirement already satisfied: pydantic<3,>=1.9.0 in /usr/local/lib/python3.10/dist-packages (from openai) (2.9.2)\n",
      "Requirement already satisfied: sniffio in /usr/local/lib/python3.10/dist-packages (from openai) (1.3.1)\n",
      "Requirement already satisfied: tqdm>4 in /usr/local/lib/python3.10/dist-packages (from openai) (4.66.6)\n",
      "Requirement already satisfied: typing-extensions<5,>=4.11 in /usr/local/lib/python3.10/dist-packages (from openai) (4.12.2)\n",
      "Requirement already satisfied: idna>=2.8 in /usr/local/lib/python3.10/dist-packages (from anyio<5,>=3.5.0->openai) (3.10)\n",
      "Requirement already satisfied: exceptiongroup in /usr/local/lib/python3.10/dist-packages (from anyio<5,>=3.5.0->openai) (1.2.2)\n",
      "Requirement already satisfied: certifi in /usr/local/lib/python3.10/dist-packages (from httpx<1,>=0.23.0->openai) (2024.8.30)\n",
      "Requirement already satisfied: httpcore==1.* in /usr/local/lib/python3.10/dist-packages (from httpx<1,>=0.23.0->openai) (1.0.7)\n",
      "Requirement already satisfied: h11<0.15,>=0.13 in /usr/local/lib/python3.10/dist-packages (from httpcore==1.*->httpx<1,>=0.23.0->openai) (0.14.0)\n",
      "Requirement already satisfied: annotated-types>=0.6.0 in /usr/local/lib/python3.10/dist-packages (from pydantic<3,>=1.9.0->openai) (0.7.0)\n",
      "Requirement already satisfied: pydantic-core==2.23.4 in /usr/local/lib/python3.10/dist-packages (from pydantic<3,>=1.9.0->openai) (2.23.4)\n",
      "Collecting firecrawl-py\n",
      "  Downloading firecrawl_py-1.5.0-py3-none-any.whl.metadata (10 kB)\n",
      "Requirement already satisfied: requests in /usr/local/lib/python3.10/dist-packages (from firecrawl-py) (2.32.3)\n",
      "Collecting python-dotenv (from firecrawl-py)\n",
      "  Downloading python_dotenv-1.0.1-py3-none-any.whl.metadata (23 kB)\n",
      "Collecting websockets (from firecrawl-py)\n",
      "  Downloading websockets-14.1-cp310-cp310-manylinux_2_5_x86_64.manylinux1_x86_64.manylinux_2_17_x86_64.manylinux2014_x86_64.whl.metadata (6.7 kB)\n",
      "Requirement already satisfied: nest-asyncio in /usr/local/lib/python3.10/dist-packages (from firecrawl-py) (1.6.0)\n",
      "Requirement already satisfied: charset-normalizer<4,>=2 in /usr/local/lib/python3.10/dist-packages (from requests->firecrawl-py) (3.4.0)\n",
      "Requirement already satisfied: idna<4,>=2.5 in /usr/local/lib/python3.10/dist-packages (from requests->firecrawl-py) (3.10)\n",
      "Requirement already satisfied: urllib3<3,>=1.21.1 in /usr/local/lib/python3.10/dist-packages (from requests->firecrawl-py) (2.2.3)\n",
      "Requirement already satisfied: certifi>=2017.4.17 in /usr/local/lib/python3.10/dist-packages (from requests->firecrawl-py) (2024.8.30)\n",
      "Downloading firecrawl_py-1.5.0-py3-none-any.whl (16 kB)\n",
      "Downloading python_dotenv-1.0.1-py3-none-any.whl (19 kB)\n",
      "Downloading websockets-14.1-cp310-cp310-manylinux_2_5_x86_64.manylinux1_x86_64.manylinux_2_17_x86_64.manylinux2014_x86_64.whl (168 kB)\n",
      "\u001b[2K   \u001b[90m━━━━━━━━━━━━━━━━━━━━━━━━━━━━━━━━━━━━━━━━\u001b[0m \u001b[32m168.2/168.2 kB\u001b[0m \u001b[31m7.4 MB/s\u001b[0m eta \u001b[36m0:00:00\u001b[0m\n",
      "\u001b[?25hInstalling collected packages: websockets, python-dotenv, firecrawl-py\n",
      "Successfully installed firecrawl-py-1.5.0 python-dotenv-1.0.1 websockets-14.1\n"
     ]
    }
   ],
   "source": [
    "!pip install git+https://github.com/openai/swarm.git\n",
    "!pip install openai\n",
    "!pip install firecrawl-py"
   ]
  },
  {
   "cell_type": "code",
   "execution_count": null,
   "metadata": {
    "id": "9yMECkmYs0mc"
   },
   "outputs": [],
   "source": [
    "import os\n",
    "from firecrawl import FirecrawlApp\n",
    "from swarm import Agent, Swarm\n",
    "from openai import OpenAI"
   ]
  },
  {
   "cell_type": "code",
   "execution_count": null,
   "metadata": {
    "id": "sNxOok1ktCr1"
   },
   "outputs": [],
   "source": [
    "app = FirecrawlApp(api_key = \" \")\n",
    "api = OpenAI(api_key=\" \")"
   ]
  },
  {
   "cell_type": "code",
   "execution_count": null,
   "metadata": {
    "id": "rokd1-e9tOm7"
   },
   "outputs": [],
   "source": [
    "client = Swarm(api)"
   ]
  },
  {
   "cell_type": "code",
   "execution_count": null,
   "metadata": {
    "id": "TGCigoaotRn8"
   },
   "outputs": [],
   "source": [
    "def scrape_website(url):\n",
    "    \"\"\"Scrape a website using Firecrawl.\"\"\"\n",
    "    scrape_status = app.scrape_url(\n",
    "        url,\n",
    "        params={'formats': ['markdown']}\n",
    "    )\n",
    "    return scrape_status"
   ]
  },
  {
   "cell_type": "markdown",
   "metadata": {
    "id": "vqgGlcpCt6LE"
   },
   "source": [
    "## Handoffs"
   ]
  },
  {
   "cell_type": "code",
   "execution_count": null,
   "metadata": {
    "id": "Kqpd1Mh7tkSj"
   },
   "outputs": [],
   "source": [
    "def handoff_to_copywriter():\n",
    "    \"\"\"Hand off the campaign idea to the copywriter agent.\"\"\"\n",
    "    return copywriter_agent\n",
    "\n",
    "def handoff_to_analyst():\n",
    "    \"\"\"Hand off the website content to the analyst agent.\"\"\"\n",
    "    return analyst_agent\n",
    "\n",
    "def handoff_to_campaign_idea():\n",
    "    \"\"\"Hand off the target audience and goals to the campaign idea agent.\"\"\"\n",
    "    return campaign_idea_agent\n",
    "\n",
    "def handoff_to_website_scraper():\n",
    "    \"\"\"Hand off the url to the website scraper agent.\"\"\"\n",
    "    return website_scraper_agent"
   ]
  },
  {
   "cell_type": "code",
   "execution_count": null,
   "metadata": {
    "id": "4KA7d7qJt3zd"
   },
   "outputs": [],
   "source": [
    "user_interface_agent = Agent(\n",
    "    name=\"User Interface Agent\",\n",
    "    instructions=\"You are a user interface agent that handles all interactions with the user. You need to always start with a URL that the user wants to create a marketing strategy for. Ask clarification questions if needed. Be concise.\",\n",
    "    functions=[handoff_to_website_scraper],\n",
    ")\n",
    "\n",
    "website_scraper_agent = Agent(\n",
    "    name=\"Website Scraper Agent\",\n",
    "    instructions=\"You are a website scraper agent specialized in scraping website content.\",\n",
    "    functions=[scrape_website, handoff_to_analyst],\n",
    ")\n",
    "\n",
    "analyst_agent = Agent(\n",
    "    name=\"Analyst Agent\",\n",
    "    instructions=\"You are an analyst agent that examines website content and provides insights for marketing strategies. Be concise.\",\n",
    "    functions=[handoff_to_copywriter],\n",
    ")\n",
    "\n",
    "copywriter_agent = Agent(\n",
    "    name=\"Copywriter Agent\",\n",
    "    model=\"gpt-4o-mini\",\n",
    "    instructions=\"You are a copywriter agent specialized in creating compelling marketing copy based on website content and campaign ideas. Be concise.\",\n",
    ")\n",
    "\n",
    "copywriter_agent_women = Agent(\n",
    "    name=\"Women-Centric Copywriter Agent\",\n",
    "    model=\"gpt-4o-mini\",\n",
    "    instructions=\"You are a copywriter agent specialized in creating empowering and relatable marketing copy that resonates with women. Craft messages that inspire confidence, highlight inclusivity, and celebrate individuality. Focus on creating a warm, supportive tone while emphasizing the benefits of the product or service. Incorporate language that speaks to common experiences, values, and aspirations of women. Use calls to action that encourage community, self-care, and empowerment.\"\n",
    ")\n",
    "\n",
    "copywriter_agent_gen_z = Agent(\n",
    "    name=\"Gen Z Copywriter Agent\",\n",
    "    model=\"gpt-4o-mini\",\n",
    "    instructions= \"You are a copywriter agent specialized in creating vibrant, trendy, and authentic marketing copy that resonates with Gen Z. Use casual, conversational language and pop-culture references when appropriate. Focus on sustainability, individuality, and social impact—values that align with this generation. Be playful and bold, incorporating emojis, hashtags, and memes sparingly to keep the tone fresh and relatable. Create calls to action that feel personal and genuine, inspiring immediate engagement.\"\n",
    ")\n",
    "\n",
    "copywriter_agent_millennials = Agent(\n",
    "    name=\"Millennial Copywriter Agent\",\n",
    "    model=\"gpt-4o-mini\",\n",
    "    instructions=\"You are a copywriter agent specialized in creating relatable and practical marketing copy that resonates with millennials. Highlight convenience, quality, and experiences over material goods. Incorporate humor, nostalgia, and a sense of achievement in your messaging. Focus on solutions for busy lifestyles, financial savviness, and wellness. Create calls to action that emphasize practicality and inspire confidence in making informed choices.\"\n",
    ")"
   ]
  },
  {
   "cell_type": "code",
   "execution_count": null,
   "metadata": {
    "id": "nRNbzjnZus11"
   },
   "outputs": [],
   "source": [
    "struct = [{\"role\": \"user\", \"content\": \"https://www.axa.com.ph/\"}]"
   ]
  },
  {
   "cell_type": "code",
   "execution_count": null,
   "metadata": {
    "id": "UUVvgcYfwTDF"
   },
   "outputs": [],
   "source": [
    "response = client.run(agent=user_interface_agent, messages=struct)\n",
    "struct.append({\"role\":\"assistant\", \"content\": response.messages[-1][\"content\"]})"
   ]
  },
  {
   "cell_type": "code",
   "execution_count": null,
   "metadata": {
    "colab": {
     "base_uri": "https://localhost:8080/"
    },
    "id": "4cs-P-IxxFVp",
    "outputId": "7ff460f5-0931-4e0f-a021-25c16063b789"
   },
   "outputs": [
    {
     "name": "stdout",
     "output_type": "stream",
     "text": [
      "7\n"
     ]
    }
   ],
   "source": [
    "print(len(response.messages))"
   ]
  },
  {
   "cell_type": "code",
   "execution_count": null,
   "metadata": {
    "colab": {
     "base_uri": "https://localhost:8080/"
    },
    "id": "v98R9rozxjjY",
    "outputId": "1b59002b-fcce-4e5c-abd9-5007d04668ff"
   },
   "outputs": [
    {
     "name": "stdout",
     "output_type": "stream",
     "text": [
      "Final Output: The AXA Philippines website provides comprehensive information about their insurance products, designed to cater to various aspects of financial protection. Here's a summary of their key offerings and marketing focus:\n",
      "\n",
      "1. **Targeted Products**: \n",
      "    - Life and health insurance plans are prominently featured, indicating a focus on individual health and financial security.\n",
      "    - Products cover critical illness, income protection, education, retirement, savings, investments, travel, car, home, and commercial insurance.\n",
      "\n",
      "2. **Empowering Messaging**:\n",
      "    - The site emphasizes empowerment through insurance, addressing specific needs such as women's risk exposure, travel confidence, and significant life events like critical illness.\n",
      "\n",
      "3. **Customer Engagement**:\n",
      "    - The website includes testimonials from real customers, providing social proof and real-life benefits of the insurance products.\n",
      "    - Users can explore and directly purchase insurance products online, ensuring convenience and ease of access.\n",
      "\n",
      "4. **Educational Content**:\n",
      "    - Articles related to financial planning, sustainable solutions, and industry insights are available, enhancing the user’s knowledge and connection with the brand.\n",
      "\n",
      "5. **Digital Tools**:\n",
      "    - The \"Emma by AXA PH\" app is highlighted as a tool for managing insurance policies, indicating a commitment to integrating technology with their services.\n",
      "\n",
      "These insights suggest a strong marketing strategy that combines product diversity, empowering narratives, customer engagement, educational efforts, and technological integration. This blend is designed to meet varied customer needs while promoting ease of interaction and trust in the brand.\n"
     ]
    }
   ],
   "source": [
    "print(\"Final Output:\", response.messages[6][\"content\"])"
   ]
  },
  {
   "cell_type": "markdown",
   "metadata": {
    "id": "Pqu6rVDNypLM"
   },
   "source": [
    "## Copy Writer Agent"
   ]
  },
  {
   "cell_type": "code",
   "execution_count": null,
   "metadata": {
    "id": "iL50eA0Cxqy8"
   },
   "outputs": [],
   "source": [
    "response = client.run(agent=copywriter_agent, messages=struct)"
   ]
  },
  {
   "cell_type": "code",
   "execution_count": null,
   "metadata": {
    "colab": {
     "base_uri": "https://localhost:8080/"
    },
    "id": "BhDYFDEix6SG",
    "outputId": "3877bf78-c040-47fb-aeef-47ec59f01e01"
   },
   "outputs": [
    {
     "name": "stdout",
     "output_type": "stream",
     "text": [
      "1\n"
     ]
    }
   ],
   "source": [
    "print(len(response.messages))"
   ]
  },
  {
   "cell_type": "code",
   "execution_count": null,
   "metadata": {
    "colab": {
     "base_uri": "https://localhost:8080/"
    },
    "id": "mV1wRCzJx-Jd",
    "outputId": "f9410f91-fcad-4cce-e817-9bcda0d0423f"
   },
   "outputs": [
    {
     "name": "stdout",
     "output_type": "stream",
     "text": [
      "Based on the insights from the AXA Philippines website, here’s a concise marketing copy that captures their essence:\n",
      "\n",
      "---\n",
      "\n",
      "**Secure Your Future with AXA Philippines**\n",
      "\n",
      "Empower yourself with tailored insurance solutions that protect what matters most. Whether it's your health, family, or investments, AXA offers a wide range of life insurance, health coverage, and financial planning tools designed for every stage of life.\n",
      "\n",
      "**Why Choose AXA?**\n",
      "- **Comprehensive Coverage**: From critical illness to travel insurance, trust us to safeguard your dreams.\n",
      "- **Customer-Centric**: Hear real stories from customers who have benefited from our services.\n",
      "- **Smart Technologies**: Manage your policies effortlessly with the Emma by AXA PH app.\n",
      "- **Knowledge is Power**: Explore our financial tips and insights to make informed decisions.\n",
      "\n",
      "Join us in creating a financially secure future. Discover your options and protect your tomorrow with AXA Philippines today!\n",
      "\n",
      "--- \n",
      "\n",
      "This copy emphasizes key offerings, benefits, and the brand’s commitment to empowering customers.\n"
     ]
    }
   ],
   "source": [
    "print(response.messages[0][\"content\"])"
   ]
  },
  {
   "cell_type": "markdown",
   "metadata": {
    "id": "puciEjfaylnQ"
   },
   "source": [
    "## Copy Writer Woman"
   ]
  },
  {
   "cell_type": "code",
   "execution_count": null,
   "metadata": {
    "id": "3EQBm3rFyB_Q"
   },
   "outputs": [],
   "source": [
    "response = client.run(agent=copywriter_agent_women, messages=struct)"
   ]
  },
  {
   "cell_type": "code",
   "execution_count": null,
   "metadata": {
    "colab": {
     "base_uri": "https://localhost:8080/"
    },
    "id": "8JxkR9MmyQ4e",
    "outputId": "b9563e6a-83f8-4480-8800-fe01749bacfc"
   },
   "outputs": [
    {
     "name": "stdout",
     "output_type": "stream",
     "text": [
      "1\n"
     ]
    }
   ],
   "source": [
    "print(len(response.messages))"
   ]
  },
  {
   "cell_type": "code",
   "execution_count": null,
   "metadata": {
    "colab": {
     "base_uri": "https://localhost:8080/"
    },
    "id": "WyMgeWn2yUs9",
    "outputId": "ca56bcc8-6d95-4e83-a16a-d18bde58a37a"
   },
   "outputs": [
    {
     "name": "stdout",
     "output_type": "stream",
     "text": [
      "**Discover the Power of Protection with AXA Philippines**\n",
      "\n",
      "At AXA, we believe that every woman deserves the peace of mind that comes from comprehensive insurance coverage. Life is a beautiful journey filled with aspirations, dreams, and even unexpected challenges. That's why we're here to empower you every step of the way with our tailored insurance solutions.\n",
      "\n",
      "**Your Health, Your Wealth, Your Well-Being**\n",
      "\n",
      "Taking care of yourself and your loved ones is a priority. Our range of health, life, and investment insurance products are designed to protect what matters most:\n",
      "\n",
      "- **Life & Health Insurance**: Ensure you have the support you need during life's ups and downs. Our plans are flexible and easy to understand, allowing you to choose what fits your unique lifestyle.\n",
      "  \n",
      "- **Education & Retirement Plans**: Plan for the future with confidence! Whether it's setting up a fund for your child's education or securing a comfortable retirement, we've got you covered.\n",
      "\n",
      "- **Home, Travel & Auto Insurance**: Enjoy life’s adventures knowing you’re protected. Travel with confidence, drive with peace of mind, and feel secure in your home.\n",
      "\n",
      "**Empower Your Journey with AXA**\n",
      "\n",
      "Our mission is to uplift and support you. By choosing AXA, you become part of a community that celebrates individuality and supports each other. Our friendly advisors are always ready to help you navigate your options—because you deserve a partner that listens.\n",
      "\n",
      "**Join a Community of Empowered Women**\n",
      "\n",
      "Connect with like-minded women who are also taking charge of their futures. Share your experiences, inspire each other, and grow together through our engaging social platforms. \n",
      "\n",
      "**Take Action Today!**\n",
      "\n",
      "Your journey to empowerment starts with a single step. Explore AXA's offerings, take advantage of our easy-to-use online platforms, and make informed decisions about your well-being. Together, let’s build a future that's not just secure, but thriving!\n",
      "\n",
      "**Visit us today at AXA Philippines and discover how you can protect your dreams with confidence!** \n",
      "\n",
      "Because at AXA, we're not just about insurance—we're about supporting you in every phase of life. Embrace your potential; we’re here for you!\n"
     ]
    }
   ],
   "source": [
    "print(response.messages[0][\"content\"])"
   ]
  },
  {
   "cell_type": "markdown",
   "metadata": {
    "id": "y9UicpwWysbe"
   },
   "source": [
    "## Copy Writer Gen Z"
   ]
  },
  {
   "cell_type": "code",
   "execution_count": null,
   "metadata": {
    "id": "Bnv6aOb3yVuV"
   },
   "outputs": [],
   "source": [
    "response = client.run(agent=copywriter_agent_gen_z, messages=struct)"
   ]
  },
  {
   "cell_type": "code",
   "execution_count": null,
   "metadata": {
    "colab": {
     "base_uri": "https://localhost:8080/"
    },
    "id": "hYcLg1qgyvjz",
    "outputId": "19522bdb-0351-4549-c3b0-1c0518730b1f"
   },
   "outputs": [
    {
     "name": "stdout",
     "output_type": "stream",
     "text": [
      "1\n"
     ]
    }
   ],
   "source": [
    "print(len(response.messages))"
   ]
  },
  {
   "cell_type": "code",
   "execution_count": null,
   "metadata": {
    "colab": {
     "base_uri": "https://localhost:8080/"
    },
    "id": "0EV3SYa3ywoL",
    "outputId": "c74f03fb-dd5b-4ae0-dc5a-fef9bf7fa854"
   },
   "outputs": [
    {
     "name": "stdout",
     "output_type": "stream",
     "text": [
      "Sure! Let’s craft some vibrant, engaging marketing copy that resonates with the Gen Z vibe while capturing the essence of AXA Philippines’ offerings. 🤙✨\n",
      "\n",
      "---\n",
      "\n",
      "🌟 **Hey there, Future Protectors!** 🌟 \n",
      "\n",
      "So, you’ve got big dreams, right? 🚀 Maybe you’re vibing at university, starting a side hustle, or just living life to the fullest! But let’s be real—life can throw some curveballs. That’s where AXA Philippines comes in to back you up! 🛡️\n",
      "\n",
      "### 💡 **Your Life, Your Insurance!** 💡\n",
      "Whether you’re looking for health hacks or financial security, we’ve got your back with tailor-made insurance solutions. From **life & health** insurance to **travel and car coverage**, AXA is your go-to partner for living your best life—fearlessly! 🌏✈️\n",
      "\n",
      "### 🦸‍♀️ **Why Choose AXA?** 🦸‍♂️\n",
      "- **Empowerment:** We’re all about making sure you’re ready for whatever life throws your way. So go ahead, chase your dreams! \n",
      "- **Convenience:** Shopping for insurance online? Yup, we went there! Check out our offerings from the comfort of your couch (or pizza shop). 🍕💻\n",
      "- **Knowledge is Power:** Dive into our blog for financial tips and tricks! You’ll feel like a financial wizard in no time! 🧙‍♂️💰\n",
      "\n",
      "### 🎉 **Join the AXA Fam!** 🎉\n",
      "Got questions? We’re just a DM away. Or download our **Emma by AXA PH** app to manage your insurance like a boss! 📱💪 \n",
      "\n",
      "👉 **Ready to secure your future? Hit that link and let’s get started!** [Explore AXA Philippines Now](https://www.axa.com.ph/) \n",
      "\n",
      "Let’s make waves, together! 🌊✨ #AXAFamily #InsuranceMadeEasy #LiveConfident\n",
      "\n",
      "---\n",
      "\n",
      "Feel free to tweak it as needed or let me know if you have specific components you want included! ✌️😊\n"
     ]
    }
   ],
   "source": [
    "print(response.messages[0][\"content\"])"
   ]
  },
  {
   "cell_type": "markdown",
   "metadata": {
    "id": "O2N2_88ly2rt"
   },
   "source": [
    "## Copy Writer Millenials"
   ]
  },
  {
   "cell_type": "code",
   "execution_count": null,
   "metadata": {
    "id": "S_D9Dfj3y2D0"
   },
   "outputs": [],
   "source": [
    "response = client.run(agent=copywriter_agent_millennials, messages=struct)"
   ]
  },
  {
   "cell_type": "code",
   "execution_count": null,
   "metadata": {
    "colab": {
     "base_uri": "https://localhost:8080/"
    },
    "id": "uDmfpDIOy6yJ",
    "outputId": "b962665a-d4b5-435a-9bfc-3325c8b9d733"
   },
   "outputs": [
    {
     "name": "stdout",
     "output_type": "stream",
     "text": [
      "1\n"
     ]
    }
   ],
   "source": [
    "print(len(response.messages))"
   ]
  },
  {
   "cell_type": "code",
   "execution_count": null,
   "metadata": {
    "colab": {
     "base_uri": "https://localhost:8080/"
    },
    "id": "mJrTek5by8sh",
    "outputId": "1c6769b6-99f8-450f-9d26-e07a2651761e"
   },
   "outputs": [
    {
     "name": "stdout",
     "output_type": "stream",
     "text": [
      "**Unlock the Future of Financial Empowerment with AXA!**\n",
      "\n",
      "Hey there, fellow go-getters! Let’s be real—life can feel like a rollercoaster. One minute you’re contemplating your dreams of owning a cat cafe, and the next, you’re hit with the realities of adulting—bills, responsibilities, and, oh yeah, unexpected surprises. But fear not! AXA Philippines has got your back.\n",
      "\n",
      "**Insurance That Gets You**  \n",
      "Forget the boring stuff—we know you're busy, and who has time to dive into an endless abyss of jargon? AXA’s life and health insurance plans are designed for the multitasking champs like you! Whether it’s securing your family’s future or ensuring you can bounce back from critical illnesses, our plans are not just policies; they’re peace of mind in a box! Because let’s face it, nothing says “I’ve got my life together” like being prepared for the yeses and nos life throws at you.\n",
      "\n",
      "**Convenience On the Go**  \n",
      "Imagine the freedom of having your insurance at your fingertips. With our handy app, Emma, managing your policies is as easy as a late-night scroll through TikTok. From quick claims to keeping track of your coverage, it’s like having a financial advisor in your pocket—minus the awkward small talk! \n",
      "\n",
      "**Financial Savviness Meets Wellness**  \n",
      "We know that looking after your wallet and your wellbeing is a top priority. Our plans aren’t just about insurance; they’re your ticket to living your best life while also shoring up your finances. Want to save while knowing your health is protected? Consider it done! Because who says you can’t have it all? \n",
      "\n",
      "**It’s Time to Take Action!**  \n",
      "So, what are you waiting for? Dive into a world of convenience, quality, and experiences—yes, we’re talking about the good kind of experiences. Secure your future with AXA today. + Click the link to explore your options and unleash your financial superhero! \n",
      "\n",
      "Join the movement of smart millennials choosing practicality; life is too short to take risks unprepared. You’ve got this—let’s make adulting a little less daunting together! 🌟\n"
     ]
    }
   ],
   "source": [
    "print(response.messages[0][\"content\"])"
   ]
  },
  {
   "cell_type": "code",
   "execution_count": null,
   "metadata": {
    "id": "GJFChUkI35T3"
   },
   "outputs": [],
   "source": []
  }
 ],
 "metadata": {
  "colab": {
   "provenance": []
  },
  "kernelspec": {
   "display_name": "Python 3",
   "name": "python3"
  },
  "language_info": {
   "name": "python"
  }
 },
 "nbformat": 4,
 "nbformat_minor": 0
}
